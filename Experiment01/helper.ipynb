{
 "cells": [
  {
   "cell_type": "code",
   "execution_count": 9,
   "metadata": {},
   "outputs": [
    {
     "name": "stdout",
     "output_type": "stream",
     "text": [
      "   Column_Name\n",
      "0         17.0\n",
      "1         12.0\n",
      "2         36.0\n",
      "3         41.0\n",
      "4         25.0\n",
      "5          NaN\n",
      "6          NaN\n",
      "7        450.0\n",
      "8         19.0\n",
      "9         10.0\n"
     ]
    }
   ],
   "source": [
    "import pandas as pd\n",
    "import numpy as np\n",
    "\n",
    "# Create a list with 10 values, including one NaN at position 6\n",
    "data = [17, 12, 36, 41, 25, np.nan, np.nan, 450, 19, 10]\n",
    "\n",
    "# Create a DataFrame with the data\n",
    "df = pd.DataFrame({'Column_Name': data})\n",
    "\n",
    "# Display the DataFrame\n",
    "print(df)"
   ]
  },
  {
   "cell_type": "code",
   "execution_count": 10,
   "metadata": {},
   "outputs": [
    {
     "data": {
      "text/plain": [
       "0     17.000000\n",
       "1     12.000000\n",
       "2     36.000000\n",
       "3     41.000000\n",
       "4     25.000000\n",
       "5    166.666667\n",
       "6    308.333333\n",
       "7    450.000000\n",
       "8     19.000000\n",
       "9     10.000000\n",
       "Name: Column_Name, dtype: float64"
      ]
     },
     "execution_count": 10,
     "metadata": {},
     "output_type": "execute_result"
    }
   ],
   "source": [
    "df[\"Column_Name\"].interpolate()"
   ]
  },
  {
   "cell_type": "markdown",
   "metadata": {},
   "source": [
    "#### Rolling Mean"
   ]
  },
  {
   "cell_type": "code",
   "execution_count": 11,
   "metadata": {},
   "outputs": [],
   "source": [
    "import pandas as pd\n",
    "\n",
    "# Sample data (a list of numbers)\n",
    "data = [10, 15, 12, 8, 20, 25, 18, 14, 22, 27]\n",
    "\n",
    "# Create a pandas Series from the data\n",
    "series = pd.Series(data)"
   ]
  },
  {
   "cell_type": "code",
   "execution_count": 12,
   "metadata": {},
   "outputs": [
    {
     "name": "stdout",
     "output_type": "stream",
     "text": [
      "Original Data:\n",
      "0    10\n",
      "1    15\n",
      "2    12\n",
      "3     8\n",
      "4    20\n",
      "5    25\n",
      "6    18\n",
      "7    14\n",
      "8    22\n",
      "9    27\n",
      "dtype: int64\n",
      "\n",
      "Rolling Mean (Window Size = 3 ):\n",
      "0          NaN\n",
      "1          NaN\n",
      "2    12.333333\n",
      "3    11.666667\n",
      "4    13.333333\n",
      "5    17.666667\n",
      "6    21.000000\n",
      "7    19.000000\n",
      "8    18.000000\n",
      "9    21.000000\n",
      "dtype: float64\n"
     ]
    }
   ],
   "source": [
    "# Define the window size for the rolling mean\n",
    "window_size = 3\n",
    "\n",
    "# Calculate the rolling mean\n",
    "rolling_mean = series.rolling(window=window_size).mean()\n",
    "\n",
    "# Print the original data and the rolling mean\n",
    "print(\"Original Data:\")\n",
    "print(series)\n",
    "print(\"\\nRolling Mean (Window Size =\", window_size, \"):\")\n",
    "print(rolling_mean)"
   ]
  },
  {
   "cell_type": "code",
   "execution_count": 1,
   "metadata": {},
   "outputs": [
    {
     "name": "stdout",
     "output_type": "stream",
     "text": [
      "Original Array: [10 15 12  8 20]\n",
      "First Difference: [ 5 -3 -4 12]\n",
      "Second Difference: [-8 -1 16]\n"
     ]
    }
   ],
   "source": [
    "import numpy as np\n",
    "\n",
    "# Create a NumPy array\n",
    "arr = np.array([10, 15, 12, 8, 20])\n",
    "\n",
    "# Compute the first difference\n",
    "diff_1st = np.diff(arr)\n",
    "\n",
    "# Compute the second difference\n",
    "diff_2nd = np.diff(arr, n=2)\n",
    "\n",
    "# Display the original array and the computed differences\n",
    "print(\"Original Array:\", arr)\n",
    "print(\"First Difference:\", diff_1st)\n",
    "print(\"Second Difference:\", diff_2nd)"
   ]
  },
  {
   "cell_type": "code",
   "execution_count": null,
   "metadata": {},
   "outputs": [],
   "source": []
  }
 ],
 "metadata": {
  "kernelspec": {
   "display_name": "venv_tsa",
   "language": "python",
   "name": "python3"
  },
  "language_info": {
   "codemirror_mode": {
    "name": "ipython",
    "version": 3
   },
   "file_extension": ".py",
   "mimetype": "text/x-python",
   "name": "python",
   "nbconvert_exporter": "python",
   "pygments_lexer": "ipython3",
   "version": "3.10.12"
  },
  "orig_nbformat": 4
 },
 "nbformat": 4,
 "nbformat_minor": 2
}
